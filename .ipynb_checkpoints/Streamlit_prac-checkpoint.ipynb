{
 "cells": [
  {
   "cell_type": "code",
   "execution_count": null,
   "id": "cc2c960f",
   "metadata": {},
   "outputs": [],
   "source": [
    "import streamlit as st \n",
    "st.set_page_config(page_title=\"Fake News Detection\", page_icon=\":tada\", layout=\"wide\")\n",
    "st.subheader(\"We are detecting fake articles\")\n",
    "st.write(\"we are passionate about identifying fake news \")"
   ]
  }
 ],
 "metadata": {
  "kernelspec": {
   "display_name": "Python 3 (ipykernel)",
   "language": "python",
   "name": "python3"
  },
  "language_info": {
   "codemirror_mode": {
    "name": "ipython",
    "version": 3
   },
   "file_extension": ".py",
   "mimetype": "text/x-python",
   "name": "python",
   "nbconvert_exporter": "python",
   "pygments_lexer": "ipython3",
   "version": "3.9.12"
  }
 },
 "nbformat": 4,
 "nbformat_minor": 5
}
