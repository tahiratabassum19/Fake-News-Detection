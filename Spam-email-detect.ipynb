{
 "cells": [
  {
   "cell_type": "code",
   "execution_count": null,
   "id": "df5bb58c",
   "metadata": {},
   "outputs": [],
   "source": [
    "#import libraries needed \n"
   ]
  },
  {
   "cell_type": "code",
   "execution_count": null,
   "id": "7d69f106",
   "metadata": {},
   "outputs": [],
   "source": [
    "# start isbe EDA"
   ]
  },
  {
   "cell_type": "code",
   "execution_count": null,
   "id": "525eccae",
   "metadata": {},
   "outputs": [],
   "source": [
    "# "
   ]
  }
 ],
 "metadata": {
  "kernelspec": {
   "display_name": "Python 3 (ipykernel)",
   "language": "python",
   "name": "python3"
  },
  "language_info": {
   "codemirror_mode": {
    "name": "ipython",
    "version": 3
   },
   "file_extension": ".py",
   "mimetype": "text/x-python",
   "name": "python",
   "nbconvert_exporter": "python",
   "pygments_lexer": "ipython3",
   "version": "3.9.12"
  }
 },
 "nbformat": 4,
 "nbformat_minor": 5
}
